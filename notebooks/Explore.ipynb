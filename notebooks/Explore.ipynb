{
 "cells": [
  {
   "cell_type": "markdown",
   "id": "7dc08a90",
   "metadata": {},
   "source": [
    "# Computer Vision Project"
   ]
  },
  {
   "cell_type": "markdown",
   "id": "a6cc37ea",
   "metadata": {},
   "source": [
    "#### Approach we will take for the Aerial vs Ground Natural Disaster computer vision project"
   ]
  },
  {
   "cell_type": "markdown",
   "id": "486bc598",
   "metadata": {},
   "source": [
    "## Import Packages"
   ]
  },
  {
   "cell_type": "code",
   "execution_count": 3,
   "id": "b8880aa1",
   "metadata": {},
   "outputs": [],
   "source": [
    "# Get this from GitHub Repository / Random Class Notebooks / etc.\n",
    "\n",
    "# At minimum, we need PyTorch"
   ]
  },
  {
   "cell_type": "markdown",
   "id": "e5e33435",
   "metadata": {},
   "source": [
    "## Load data to our project"
   ]
  },
  {
   "cell_type": "code",
   "execution_count": 4,
   "id": "b9aa5ad1",
   "metadata": {},
   "outputs": [],
   "source": [
    "# Reference the following notebooks:\n",
    "\n",
    "# Identifying Pneumothorax in chest xrays\n",
    "# Image classification (writing neural network from scratch)"
   ]
  },
  {
   "cell_type": "markdown",
   "id": "9855c406",
   "metadata": {},
   "source": [
    "## Data Preparation: \n",
    "### Set up class to add labels, manipulate the images to size correctly, data augmentation"
   ]
  },
  {
   "cell_type": "code",
   "execution_count": 5,
   "id": "9ecad6ca",
   "metadata": {},
   "outputs": [],
   "source": [
    "# AIDER - use approach based on image classification notebook (writing neural network from scratch)\n",
    "# MEDIC - need to use DICOM\n",
    "\n",
    "# labels = Aerial and Ground. Need to standardize \"Fire\", \"Flood\", \"No Disaster\" across both datasets so labels are the same\n",
    "\n",
    "# Reference code to size images correctly. May not be in correct section, \n",
    "# but we might need to compare image sizes across our two data sets and standardize?\n",
    "\n",
    "# Data augmentation to create new images from AIDER data set to get better class balance between aerial and ground"
   ]
  },
  {
   "cell_type": "markdown",
   "id": "b57da028",
   "metadata": {},
   "source": [
    "## Data Manipulation"
   ]
  },
  {
   "cell_type": "code",
   "execution_count": 6,
   "id": "fe0dea8f",
   "metadata": {},
   "outputs": [],
   "source": [
    "#MEDIC:\n",
    "## Choose which pictures to keep from MEDIC (there are a lot more than AIDER)\n",
    "## Drop pictures we don't want from MEDIC\n",
    "## Drop Mild Category\n",
    "## Drop Not Informative label if they exist?\n",
    "## Only Keep fires, floods, and not disasters\n",
    "\n",
    "#AIDER:\n",
    "## Only keep fires, floods and not disasters\n"
   ]
  },
  {
   "cell_type": "markdown",
   "id": "45182f18",
   "metadata": {},
   "source": [
    "## Combine Datasets"
   ]
  },
  {
   "cell_type": "code",
   "execution_count": 7,
   "id": "53a0b22b",
   "metadata": {},
   "outputs": [],
   "source": [
    "# Merge MEDIC and AIDER"
   ]
  },
  {
   "cell_type": "markdown",
   "id": "14a0cefa",
   "metadata": {},
   "source": [
    "## Train_test_split into our training and test set"
   ]
  },
  {
   "cell_type": "code",
   "execution_count": 8,
   "id": "42be63a0",
   "metadata": {},
   "outputs": [],
   "source": [
    "# Set up training, validation, and test sets"
   ]
  },
  {
   "cell_type": "markdown",
   "id": "d37dbd47",
   "metadata": {},
   "source": [
    "# Amani:\n",
    "## Set up Model Architecture"
   ]
  },
  {
   "cell_type": "code",
   "execution_count": 17,
   "id": "13f35855",
   "metadata": {},
   "outputs": [],
   "source": [
    "# Need to decide on best architecture to use based on our goals. Performance/computational resources tradeoffs\n",
    "\n",
    "# Are there pre-trained models that are less computationally heavy to start off with? Research this & include in PowerPoint\n",
    "# Transfer Learning ^"
   ]
  },
  {
   "cell_type": "markdown",
   "id": "b3f23567",
   "metadata": {},
   "source": [
    "## Train model "
   ]
  },
  {
   "cell_type": "code",
   "execution_count": 15,
   "id": "ee3b234e",
   "metadata": {},
   "outputs": [],
   "source": [
    "# Reference existing code to train model"
   ]
  },
  {
   "cell_type": "markdown",
   "id": "266bc32f",
   "metadata": {},
   "source": [
    "## Evaluate Performance"
   ]
  },
  {
   "cell_type": "code",
   "execution_count": 16,
   "id": "c2a7e86d",
   "metadata": {},
   "outputs": [],
   "source": [
    "# Validation / Test set"
   ]
  },
  {
   "cell_type": "markdown",
   "id": "e3fe68cd",
   "metadata": {},
   "source": [
    "## Report on Statistics"
   ]
  },
  {
   "cell_type": "code",
   "execution_count": 11,
   "id": "5b497e8d",
   "metadata": {},
   "outputs": [],
   "source": [
    "# Performance, recall, F1-score"
   ]
  },
  {
   "cell_type": "code",
   "execution_count": 12,
   "id": "a98f584c",
   "metadata": {},
   "outputs": [],
   "source": [
    "# Ground vs Aerial analysis"
   ]
  }
 ],
 "metadata": {
  "kernelspec": {
   "display_name": "Python 3",
   "language": "python",
   "name": "python3"
  },
  "language_info": {
   "codemirror_mode": {
    "name": "ipython",
    "version": 3
   },
   "file_extension": ".py",
   "mimetype": "text/x-python",
   "name": "python",
   "nbconvert_exporter": "python",
   "pygments_lexer": "ipython3",
   "version": "3.8.8"
  }
 },
 "nbformat": 4,
 "nbformat_minor": 5
}
